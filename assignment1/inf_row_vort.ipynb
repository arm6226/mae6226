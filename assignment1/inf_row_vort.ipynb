{
 "metadata": {
  "name": ""
 },
 "nbformat": 3,
 "nbformat_minor": 0,
 "worksheets": [
  {
   "cells": [
    {
     "cell_type": "markdown",
     "metadata": {},
     "source": [
      "IPython notebook with the infinite row of vortices."
     ]
    }
   ],
   "metadata": {}
  }
 ]
}