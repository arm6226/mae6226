{
 "metadata": {
  "name": "mae6226 project.ipynb"
 },
 "nbformat": 3,
 "nbformat_minor": 0,
 "worksheets": [
  {
   "cells": [
    {
     "cell_type": "heading",
     "level": 1,
     "metadata": {},
     "source": [
      "<h1 align=\"center\">MAE 6226 Project - Stokes Equations by Boundary Element Method </h1>"
     ]
    },
    {
     "cell_type": "markdown",
     "metadata": {},
     "source": [
      "<h4 align=\"center\">By Abhilash Reddy Malipeddi</h4>"
     ]
    },
    {
     "cell_type": "heading",
     "level": 2,
     "metadata": {},
     "source": [
      "Stokes Flow"
     ]
    },
    {
     "cell_type": "markdown",
     "metadata": {},
     "source": [
      "Under the assumption of an incompressible and inviscid fluid, the steady-state Navier-Stokes equations (NSE) reduce to a laplacian equation for the velocity potential. From scaling arguments, it can be shown that this simplification is applicable when the Reynolds number ($Re$) of the flow is high, so that the contribution of the viscous terms in the momentun equation may be neglected.\n",
      "\n",
      "\n",
      "At the other end of the spectrum, i.e $Re\\ll 1$, we have *creeping flow* where the forces due to viscosity dominate and the  the contribution of the advection and acceleration are negligible. This simplification of the NSE results in what are called the Stokes equation of motion:\n",
      "\n",
      "   $$  \\mathbf{0}=\\nabla{P} + \\rho \\mathbf{F} + \\mu \\nabla^2 \\mathbf{u}, \\;\\;\\;\\;  \\;\\;\\;\\;   \\nabla \\cdot \\mathbf{u}=0$$"
     ]
    },
    {
     "cell_type": "markdown",
     "metadata": {},
     "source": [
      "The equations are linear."
     ]
    },
    {
     "cell_type": "heading",
     "level": 3,
     "metadata": {},
     "source": [
      "Green's Function"
     ]
    },
    {
     "cell_type": "markdown",
     "metadata": {},
     "source": [
      "A Green's function is the solution to a singularly forced differential equation, i.e, when the forcing is represented as a dirac delta function, for specified boundary conditions. In case of stokes flow, the Green's function is a solution of \n",
      "\n",
      "\n",
      "$$\\mathbf{0}=\\nabla{P} + \\mathbf{b} \\delta \\mathbf{ \\left(x - x_0\\right)} + \\mu \\nabla^2 \\mathbf{u} $$\n",
      "\n",
      "Here $ \\mathbf{b} \\delta \\mathbf{ \\left(x - x_0\\right)} $ represents a point force acting at $\\mathbf{x_0}$. The *stokeslet*, or the free space Green's function for Stokes flow is a solution to the above equation, when there are no boundaries in the flow, i.e., the fluid is unbounded. In two dimensions, the stokeslet is \n",
      "\n",
      "$$G_{ij} = -\\delta_{ij}\\log{r} + \\frac{\\hat{x_i}\\hat{x_j}}{r^2} $$\n",
      "\n",
      "where $\\hat{\\mathbf{x}} = \\mathbf{x-x_0}$ and $r = \\left|\\mathbf{x-x_0}\\right| = \\left|\\hat{\\mathbf{x}}\\right|$. The corresponding velocity field is given by \n",
      "\n",
      "$$ u_i = \\frac{1}{4 \\pi \\mu}G_{ij}\\left(\\mathbf{x,x_0}\\right)b_j$$"
     ]
    },
    {
     "cell_type": "heading",
     "level": 4,
     "metadata": {},
     "source": [
      "Stress tensor for the stokeslet"
     ]
    },
    {
     "cell_type": "markdown",
     "metadata": {},
     "source": [
      "The stress induced in the fluid due to a point force may be expressed as \n",
      "\n",
      "$$ \\sigma_{ik}(\\mathbf{(x,x_0)}) = \\frac{1}{4 \\pi} T_{ijk}(\\mathbf{x,x_0}) b_j $$\n",
      "\n",
      "where, for the stokeslet in 2-D,\n",
      "\n",
      "$$ T_{ijk} = -4\\frac{\\hat{x_i}\\hat{x_j}\\hat{x_k}}{r^4} $$\n"
     ]
    },
    {
     "cell_type": "heading",
     "level": 4,
     "metadata": {},
     "source": [
      "Surface stress / Traction vector"
     ]
    },
    {
     "cell_type": "markdown",
     "metadata": {},
     "source": [
      "At any point on a surface, $\\mathbf{ f = \\sigma \\cdot n}$ is defined as the surface stress or traction, where $\\mathbf{n}$ is the normal to the surface. "
     ]
    },
    {
     "cell_type": "heading",
     "level": 3,
     "metadata": {},
     "source": [
      "Boundary Integral Equations for two-dimensional flow"
     ]
    },
    {
     "cell_type": "markdown",
     "metadata": {},
     "source": [
      "Using the an identity called \"Lorentz Reciprocal identity\" and a Green's function, after some analysis, the differential equations for stokes flow can be written in integral form. The final form of the boundary integral equations (BIE) for two dimensional stokes flow, where the contour $C$ is the selected area of the flow, with the normal, $n_k$, pointing into the domain, are as follows:\n",
      "\n",
      "$$ u_j\\left(\\mathbf{x_0}\\right) = - \\frac{1}{4 \\pi \\mu} \\int_C{G_{ij}(\\mathbf{x,x_0})}f_i(\\mathbf{x}) \\mathrm{d} l(\\mathbf{x}) + \\frac{1}{4 \\pi} \\int_C u_i(\\mathbf{x}) T_{ijk}(\\mathbf{x,x_0}) n_k(\\mathbf{x}) \\mathrm{d}S(\\mathbf{x})\\;\\; - Eq. 1$$\n",
      "\n",
      "$$ u_j\\left(\\mathbf{x_0}\\right) = - \\frac{1}{2 \\pi \\mu} \\int_C{G_{ij}(\\mathbf{x,x_0})}f_i(\\mathbf{x}) \\mathrm{d} l(\\mathbf{x}) + \\frac{1}{2 \\pi} \\int_C ^{PV} u_i(\\mathbf{x}) T_{ijk}(\\mathbf{x,x_0}) n_k(\\mathbf{x}) \\mathrm{d}S(\\mathbf{x})\\;\\; - Eq. 2$$\n",
      "\n",
      "$$ 0 = - \\frac{1}{4 \\pi \\mu} \\int_C{G_{ij}(\\mathbf{x,x_0})}f_i(\\mathbf{x}) \\mathrm{d} l(\\mathbf{x}) + \\frac{1}{4 \\pi} \\int_C u_i(\\mathbf{x}) T_{ijk}(\\mathbf{x,x_0}) n_k(\\mathbf{x}) \\mathrm{d}S(\\mathbf{x})\\;\\; - Eq. 3$$\n",
      "\n",
      "$Eq. 1$ is for when the the point $\\mathbf{x_0}$ is in side the contour, $Eq. 2$ is for $\\mathbf{x_0}$ lying on the contour and the last one is when the point in lying outside the contour. From the first equation, it can be seen that the velocity at any point inside the the contour can be calculated only using the boundary values of the velocity and stress.\n",
      "\n",
      "Just for the sake of mentioning it, the first integral term is called the single layer potential(SLP) and the second one is called the double layer potential (DLP). "
     ]
    },
    {
     "cell_type": "heading",
     "level": 3,
     "metadata": {},
     "source": [
      "Solution Method"
     ]
    },
    {
     "cell_type": "markdown",
     "metadata": {},
     "source": [
      "The solution is done in two steps. The first step is discretizing Eq. 2 to get system of linear equations, with the traction vector being the unknown, since the velocity on the boundary is known from the boundary conditions. In the second step, the solution at any point in the domain can be calculated using Eq. 1. As this is a vector equation, discretizing it over N elements will result in 2N equations for 2N unknowns"
     ]
    },
    {
     "cell_type": "heading",
     "level": 2,
     "metadata": {},
     "source": [
      "Implementation"
     ]
    },
    {
     "cell_type": "markdown",
     "metadata": {},
     "source": [
      "In this project, the classical case of \"Lid-Driven Cavity\" is solved under the assumption of stokes flow. The overall method is very similar to the panel method for potential flows. I have very closely followed the course material of course MTH-ME82 taught by Dr. Mark Blyth at the University of East Anglia. His website is http://www.uea.ac.uk/~h007/. \n",
      "\n",
      "The first step is to find the unknowns on the boundary. Then using this information we can find the solution at any point in the domain. To start off, the necessary libraries are imported."
     ]
    },
    {
     "cell_type": "code",
     "collapsed": false,
     "input": [
      "import numpy as np\n",
      "from scipy import integrate\n",
      "from math import *\n",
      "import matplotlib.pyplot as plt"
     ],
     "language": "python",
     "metadata": {},
     "outputs": [],
     "prompt_number": 1
    },
    {
     "cell_type": "markdown",
     "metadata": {},
     "source": [
      "The problem is specified in these following lines."
     ]
    },
    {
     "cell_type": "code",
     "collapsed": false,
     "input": [
      "Ni  =  8;       # Number of elements per side\n",
      "N   =  4*Ni;    # Total number of elements\n",
      "Lx,Ly  =  [1.0,1.0];   # square box size\n",
      "hx,hy =  [Lx/Ni,Ly/Ni];  # element length\n",
      "mu  =  1.0;  # Fluid viscosity\n",
      "U   =  2.0;  # Lid velocity"
     ],
     "language": "python",
     "metadata": {},
     "outputs": [],
     "prompt_number": 2
    },
    {
     "cell_type": "markdown",
     "metadata": {},
     "source": [
      "The arrays that are needed by the program are declared next."
     ]
    },
    {
     "cell_type": "code",
     "collapsed": false,
     "input": [
      "#declarations\n",
      "pn = np.empty(N,dtype=object)\n",
      "minf=np.zeros((N,N,3,3))\n",
      "dlpsum=np.zeros((3,1))\n",
      "dd=np.zeros((2*N,1))\n",
      "A=np.zeros((2*N,2*N))\n",
      "c1=np.zeros((2*Ni,1))\n",
      "c2=np.zeros((6*Ni,1))"
     ],
     "language": "python",
     "metadata": {},
     "outputs": [],
     "prompt_number": 3
    },
    {
     "cell_type": "markdown",
     "metadata": {},
     "source": [
      "The \"Boundary Element\" or \"Panel\" class is defined."
     ]
    },
    {
     "cell_type": "code",
     "collapsed": false,
     "input": [
      "class Panel:\n",
      "    def __init__(self,xa,ya,xb,yb):\n",
      "        self.xa,self.ya = xa,ya                     # 1st end-point\n",
      "        self.xb,self.yb = xb,yb                     # 2nd end-point\n",
      "        self.xc,self.yc = (xa+xb)/2,(ya+yb)/2       # control point\n",
      "        self.length = sqrt((xb-xa)**2+(yb-ya)**2)\n",
      "        # orientation of the panel\n",
      "        if (xb-xa>=0.):\n",
      "            self.beta=acos((ya-yb)/self.length)\n",
      "        elif (xb-xa<0.):\n",
      "            self.beta = pi+acos((ya-yb)/self.length)\n",
      "        #cartesian components of traction vector\n",
      "        self.fx=0.\n",
      "        self.fy=0."
     ],
     "language": "python",
     "metadata": {},
     "outputs": [],
     "prompt_number": 4
    },
    {
     "cell_type": "markdown",
     "metadata": {},
     "source": [
      "The geometry of the problem is defined. The panels are numbered starting from top left and going cloclwise. Like before, this directionality is necessary."
     ]
    },
    {
     "cell_type": "code",
     "collapsed": false,
     "input": [
      "for i in range(N):\n",
      "    if(i<Ni):\n",
      "        pn[i]=Panel(i*hx,Ly,(i+1)*hx,Ly)\n",
      "    elif(Ni<=i<2*Ni):\n",
      "        ii=i-Ni\n",
      "        pn[i]=Panel(Lx,(Ly-ii*hy),Lx,(Ly-(ii+1)*hy))\n",
      "    elif (2*Ni<=i<3*Ni):\n",
      "        ii=i-2*Ni\n",
      "        pn[i]=Panel(Lx-ii*hx,0.,Lx-(ii+1)*hx,0.)\n",
      "    elif (3*Ni<=i<4*Ni):\n",
      "        ii=i-3*Ni\n",
      "        pn[i]=Panel(0.,(ii*hy),0.,((ii+1)*hy))"
     ],
     "language": "python",
     "metadata": {},
     "outputs": [],
     "prompt_number": 5
    },
    {
     "cell_type": "markdown",
     "metadata": {},
     "source": [
      "Let's plot the domain, to see what we've got so far. "
     ]
    },
    {
     "cell_type": "code",
     "collapsed": false,
     "input": [
      "valX,valY = 0.1*Lx,0.1*Ly\n",
      "xmin,xmax = min([p.xa for p in pn]),max([p.xa for p in pn])\n",
      "ymin,ymax = min([p.ya for p in pn]),max([p.ya for p in pn])\n",
      "xStart,xEnd = xmin-valX*(xmax-xmin),xmax+valX*(xmax-xmin)\n",
      "yStart,yEnd = ymin-valY*(ymax-ymin),ymax+valY*(ymax-ymin)\n",
      "size = 10\n",
      "plt.figure(figsize=(size,(yEnd-yStart)/(xEnd-xStart)*size))\n",
      "plt.grid(True)\n",
      "plt.xlabel('x',fontsize=16);plt.ylabel('y',fontsize=16)\n",
      "plt.xlim(xStart,xEnd);plt.ylim(yStart,yEnd)\n",
      "plt.plot(np.append([p.xa for p in pn],pn[0].xa),\\\n",
      "        np.append([p.ya for p in pn],pn[0].ya),\\\n",
      "        'ko');\n",
      "plt.plot([p.xc for p in pn ],[p.yc for p in pn],'co',linewidth=5)"
     ],
     "language": "python",
     "metadata": {},
     "outputs": [
      {
       "metadata": {},
       "output_type": "pyout",
       "prompt_number": 6,
       "text": [
        "[<matplotlib.lines.Line2D at 0x80e0b00>]"
       ]
      },
      {
       "metadata": {},
       "output_type": "display_data",
       "png": "[encoded data removed]",
       "text": [
        "<matplotlib.figure.Figure at 0x80e07f0>"
       ]
      }
     ],
     "prompt_number": 6
    },
    {
     "cell_type": "markdown",
     "metadata": {},
     "source": [
      "The geometry is as expected. The end points are colored black and the collocation points are colored cyan."
     ]
    },
    {
     "cell_type": "code",
     "collapsed": false,
     "input": [
      "#define SLP\n",
      "def SLP(pj,x0,y0):\n",
      "    def func(s,i,j):\n",
      "        xh=np.zeros((3,1))\n",
      "        x=pj.xa+sin(pj.beta)*s\n",
      "        y=pj.ya-cos(pj.beta)*s\n",
      "        xh[1]=x-x0\n",
      "        xh[2]=y-y0\n",
      "        r=1e-50+np.sqrt((x-x0)**2+(y-y0)**2)\n",
      "        fn=-log(r)*(1-abs(i-j))+xh[i]*xh[j]/r**2\n",
      "        return fn\n",
      "    ii=np.zeros((3,3))\n",
      "    for i in [1,2]:\n",
      "        for j in [1,2]:\n",
      "            ii[i,j]=integrate.quad(lambda s:func(s,i,j),0.,pj.length)[0]\n",
      "    return ii\n",
      "#define DLP\n",
      "def DLP(pj,x0,y0):\n",
      "    dlpint=np.zeros((3,1))\n",
      "    def func2(s,i,j):\n",
      "        xh=np.zeros((3,1))\n",
      "        x=pj.xa+sin(pj.beta)*s\n",
      "        y=pj.ya-cos(pj.beta)*s\n",
      "        xh[1]=x-x0\n",
      "        xh[2]=y-y0\n",
      "        r=1e-50+sqrt((x-x0)**2+(y-y0)**2)\n",
      "        T = -4*xh[1]*xh[i]*xh[j]/r**4;\n",
      "        return -T #normal pointing in -y dir\n",
      "    dlpint[1]=integrate.quad(lambda s:func2(s,1,2),0.,pj.length)[0]\n",
      "    dlpint[2]=integrate.quad(lambda s:func2(s,2,2),0.,pj.length)[0]\n",
      "    return dlpint"
     ],
     "language": "python",
     "metadata": {},
     "outputs": [],
     "prompt_number": 7
    },
    {
     "cell_type": "markdown",
     "metadata": {},
     "source": [
      "Now we can go ahead with building the system of linear equations. We do this by using the BIE for a point lying on the boundary, where we know the velocity ."
     ]
    },
    {
     "cell_type": "code",
     "collapsed": false,
     "input": [
      "#for present location, center of ik'th panel\n",
      "#compute SLP\n",
      "for ik in range(N):\n",
      "    for k in range(N):\n",
      "        eint=SLP(pn[k],pn[ik].xc,pn[ik].yc) #calculating SLP\n",
      "        for m in [1,2]:\n",
      "            for n in [1,2]:\n",
      "                minf[ik,k,m,n]=eint[m,n]/(4*pi*mu)\n",
      "#compute DLP\n",
      "    dlpsum[1]=0.\n",
      "    dlpsum[2]=0.\n",
      "    for k in range(Ni):\n",
      "        dl=DLP(pn[k],pn[ik].xc,pn[ik].yc) # calculate DLP\n",
      "        dlpsum[1]=dlpsum[1]+(1/(4*pi))*U*dl[1]\n",
      "        dlpsum[2]=dlpsum[2]+(1/(4*pi))*U*dl[2]\n",
      "    ik2=2*ik\n",
      "    dd[ik2]=dlpsum[1]\n",
      "    dd[ik2+1]=dlpsum[2]"
     ],
     "language": "python",
     "metadata": {},
     "outputs": [],
     "prompt_number": 8
    },
    {
     "cell_type": "markdown",
     "metadata": {},
     "source": [
      "Now we build the coefficient matrix **[A]** and....."
     ]
    },
    {
     "cell_type": "code",
     "collapsed": false,
     "input": [
      "for ik in range(N):\n",
      "    ik2=2*ik\n",
      "    for k in range(N):\n",
      "        k2=2*k\n",
      "        A[ik2,k2]     = minf[ik,k,1,1];\n",
      "        A[ik2,k2+1]   = minf[ik,k,1,2];\n",
      "        A[ik2+1,k2]   = minf[ik,k,2,1];\n",
      "        A[ik2+1,k2+1] = minf[ik,k,2,2];"
     ],
     "language": "python",
     "metadata": {},
     "outputs": [],
     "prompt_number": 9
    },
    {
     "cell_type": "markdown",
     "metadata": {},
     "source": [
      "...and the RHS column vector **{b}**"
     ]
    },
    {
     "cell_type": "code",
     "collapsed": false,
     "input": [
      "for ik in range(Ni):\n",
      "    ik2=2*ik\n",
      "    c1[ik2]=1\n",
      "    c1[ik2+1]=0\n",
      "for ik in range(3*Ni):\n",
      "    ik2=2*ik\n",
      "    c2[ik2]=0\n",
      "    c2[ik2+1]=0\n",
      "b= dd - 0.5*U*(np.concatenate([c1,c2]))"
     ],
     "language": "python",
     "metadata": {},
     "outputs": [],
     "prompt_number": 10
    },
    {
     "cell_type": "markdown",
     "metadata": {},
     "source": [
      "Next we solve the equations and seperate the components of the traction"
     ]
    },
    {
     "cell_type": "code",
     "collapsed": false,
     "input": [
      "#solve the system\n",
      "f=np.linalg.solve(A,b)\n",
      "\n",
      "#seperate the x and y direction tractions and put them in the corresponding panels\n",
      "fx=f[::2]\n",
      "fy=f[1::2]\n",
      "for i in range(N):\n",
      "    pn[i].fx=fx[i]\n",
      "    pn[i].fy=fy[i]"
     ],
     "language": "python",
     "metadata": {},
     "outputs": [],
     "prompt_number": 11
    },
    {
     "cell_type": "markdown",
     "metadata": {},
     "source": [
      "Now that we have all the boundary data, we can get the velocity at any point within the domain. Lets us now calculate the velocity everywhere in the domain and plot streamlines and quiver plot of the velocity. This is done, not dissimilar to what was done in the course previously, by defining a function to get the velocity field."
     ]
    },
    {
     "cell_type": "code",
     "collapsed": false,
     "input": [
      "def VelocityField(p,X,Y):\n",
      "    Nx,Ny=X.shape\n",
      "    N=p.size\n",
      "    u,v = np.empty((Nx,Ny),dtype=float),np.empty((Nx,Ny),dtype=float)\n",
      "    for i in range(Nx):\n",
      "        for j in range(Ny):\n",
      "            ux=0.\n",
      "            uy=0.\n",
      "            for k in range(N):\n",
      "                eint=SLP(p[k],X[i,j],Y[i,j])\n",
      "                ux = ux - (1/(4*pi*mu))*(eint[1,1]*p[k].fx + eint[2,1]*p[k].fy);\n",
      "                uy = uy - (1/(4*pi*mu))*(eint[1,2]*p[k].fx + eint[2,2]*p[k].fy);\n",
      "            dlpsum[1]=0.\n",
      "            dlpsum[2]=0.\n",
      "            for k in range(N/4):\n",
      "                dl=DLP(p[k],X[i,j],Y[i,j])\n",
      "                dlpsum[1]=dlpsum[1]+(1/(4*pi))*U*dl[1]\n",
      "                dlpsum[2]=dlpsum[2]+(1/(4*pi))*U*dl[2]\n",
      "            ux = ux + dlpsum[1]\n",
      "            uy = uy + dlpsum[2]\n",
      "            u[i,j]=ux\n",
      "            v[i,j]=uy\n",
      "    return u,v"
     ],
     "language": "python",
     "metadata": {},
     "outputs": [],
     "prompt_number": 12
    },
    {
     "cell_type": "markdown",
     "metadata": {},
     "source": [
      "Now, let's define the meshgrid, obtain the velocity field and plot the streamlines."
     ]
    },
    {
     "cell_type": "code",
     "collapsed": false,
     "input": [
      "Nx,Ny=16,16\n",
      "X,Y=np.meshgrid(np.linspace(0.01*Lx,0.99*Lx,Nx),np.linspace(0.01*Ly,0.99*Ly,Ny))\n",
      "u,v=VelocityField(pn,X,Y)\n"
     ],
     "language": "python",
     "metadata": {},
     "outputs": [],
     "prompt_number": 14
    },
    {
     "cell_type": "code",
     "collapsed": false,
     "input": [
      "xmin,xmax = min([p.xa for p in pn]),max([p.xa for p in pn])\n",
      "ymin,ymax = min([p.ya for p in pn]),max([p.ya for p in pn])\n",
      "xStart,xEnd = xmin-valX*(xmax-xmin),xmax+valX*(xmax-xmin)\n",
      "yStart,yEnd = ymin-valY*(ymax-ymin),ymax+valY*(ymax-ymin)\n",
      "size=12\n",
      "plt.figure(figsize=(size,(yEnd-yStart)/(xEnd-xStart)*size))\n",
      "plt.xlabel('x',fontsize=16)\n",
      "plt.ylabel('y',fontsize=16)\n",
      "plt.streamplot(X,Y,u,v,density=4,linewidth=1,arrowsize=1,arrowstyle='->')\n",
      "plt.plot(np.append([p.xa for p in pn],pn[0].xa),\\\n",
      "        np.append([p.ya for p in pn],pn[0].ya),\\\n",
      "        linestyle='-',linewidth=1,\\\n",
      "        marker='o',markersize=6,color='#CD2305');\n",
      "plt.xlim(xStart,xEnd)\n",
      "plt.ylim(yStart,yEnd)\n",
      "plt.title('Streamline plot');"
     ],
     "language": "python",
     "metadata": {},
     "outputs": []
    },
    {
     "cell_type": "markdown",
     "metadata": {},
     "source": [
      "Following up with the visualization of the velocity field."
     ]
    },
    {
     "cell_type": "code",
     "collapsed": false,
     "input": [
      "plt.figure(figsize=(size,(yEnd-yStart)/(xEnd-xStart)*size))\n",
      "plt.xlabel('x',fontsize=16)\n",
      "plt.ylabel('y',fontsize=16)\n",
      "plt.quiver(X,Y,u,v)\n",
      "plt.plot(np.append([p.xa for p in pn],pn[0].xa),\\\n",
      "        np.append([p.ya for p in pn],pn[0].ya),\\\n",
      "        linestyle='-',linewidth=1,\\\n",
      "        marker='o',markersize=6,color='#CD2305');\n",
      "plt.xlim(xStart,xEnd)\n",
      "plt.ylim(yStart,yEnd)\n",
      "plt.title('Velocity field');"
     ],
     "language": "python",
     "metadata": {},
     "outputs": []
    }
   ],
   "metadata": {}
  }
 ]
}